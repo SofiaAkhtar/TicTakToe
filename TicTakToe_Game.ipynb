{
  "nbformat": 4,
  "nbformat_minor": 0,
  "metadata": {
    "colab": {
      "provenance": [],
      "authorship_tag": "ABX9TyND61xLQri/9lcnYpU9Xrgq",
      "include_colab_link": true
    },
    "kernelspec": {
      "name": "python3",
      "display_name": "Python 3"
    },
    "language_info": {
      "name": "python"
    }
  },
  "cells": [
    {
      "cell_type": "markdown",
      "metadata": {
        "id": "view-in-github",
        "colab_type": "text"
      },
      "source": [
        "<a href=\"https://colab.research.google.com/github/SofiaAkhtar/TicTakToe/blob/main/TicTakToe_Game.ipynb\" target=\"_parent\"><img src=\"https://colab.research.google.com/assets/colab-badge.svg\" alt=\"Open In Colab\"/></a>"
      ]
    },
    {
      "cell_type": "code",
      "execution_count": null,
      "metadata": {
        "colab": {
          "base_uri": "https://localhost:8080/"
        },
        "id": "lU-LJxrN0sjK",
        "outputId": "ac412d0b-c14c-4b7a-8916-fbf37a8fa02d"
      },
      "outputs": [
        {
          "metadata": {
            "tags": null
          },
          "name": "stdout",
          "output_type": "stream",
          "text": [
            "Welcome to Tic-Tac-Toe!\n",
            "  0 | 1 | 2\n",
            " -----------\n",
            "0 |   |   |  \n",
            " -----------\n",
            "1 |   |   |  \n",
            " -----------\n",
            "2 |   |   |  \n",
            " -----------\n",
            "Invalid input. Please enter two digits representing the row and column.\n",
            "  0 | 1 | 2\n",
            " -----------\n",
            "0 |   |   |  \n",
            " -----------\n",
            "1 |   | X |  \n",
            " -----------\n",
            "2 |   |   |  \n",
            " -----------\n",
            "  0 | 1 | 2\n",
            " -----------\n",
            "0 | O |   |  \n",
            " -----------\n",
            "1 |   | X |  \n",
            " -----------\n",
            "2 |   |   |  \n",
            " -----------\n"
          ]
        }
      ],
      "source": [
        "def print_board(board):\n",
        "    print(\"  0 | 1 | 2\")\n",
        "    print(\" -----------\")\n",
        "    for i in range(3):\n",
        "        print(f\"{i} |\", end=\" \")\n",
        "        print(\" | \".join(board[i]))\n",
        "        print(\" -----------\")\n",
        "\n",
        "def check_winner(board, player):\n",
        "    # Check rows and columns\n",
        "    for i in range(3):\n",
        "        if all(board[i][j] == player for j in range(3)) or all(board[j][i] == player for j in range(3)):\n",
        "            return True\n",
        "\n",
        "    # Check diagonals\n",
        "    if all(board[i][i] == player for i in range(3)) or all(board[i][2 - i] == player for i in range(3)):\n",
        "        return True\n",
        "\n",
        "    return False\n",
        "\n",
        "def is_board_full(board):\n",
        "    return all(all(cell != ' ' for cell in row) for row in board)\n",
        "\n",
        "def get_player_move(player, board):\n",
        "    while True:\n",
        "        try:\n",
        "            move = input(f\"{player}, enter your move (row col): \")\n",
        "            row, col = map(int, move.split())\n",
        "            if 0 <= row < 3 and 0 <= col < 3 and board[row][col] == ' ':\n",
        "                return row, col\n",
        "            else:\n",
        "                print(\"Invalid move. Please try again.\")\n",
        "        except ValueError:\n",
        "            print(\"Invalid input. Please enter two digits representing the row and column.\")\n",
        "\n",
        "def play_again():\n",
        "    return input(\"Do you want to play again? (yes/no): \").lower().startswith('y')\n",
        "\n",
        "def tic_tac_toe():\n",
        "    print(\"Welcome to Tic-Tac-Toe!\")\n",
        "\n",
        "    while True:\n",
        "        board = [[' ' for _ in range(3)] for _ in range(3)]\n",
        "        player1 = input(\"Enter name for Player 1 (X): \")\n",
        "        player2 = input(\"Enter name for Player 2 (O): \")\n",
        "\n",
        "        current_player = 'X'\n",
        "        while True:\n",
        "            print_board(board)\n",
        "            row, col = get_player_move(player1 if current_player == 'X' else player2, board)\n",
        "\n",
        "            board[row][col] = current_player\n",
        "            if check_winner(board, current_player):\n",
        "                print_board(board)\n",
        "                print(f\"{player1 if current_player == 'X' else player2} wins!\")\n",
        "                break\n",
        "            elif is_board_full(board):\n",
        "                print_board(board)\n",
        "                print(\"It's a draw!\")\n",
        "                break\n",
        "            else:\n",
        "                current_player = 'O' if current_player == 'X' else 'X'\n",
        "\n",
        "        if not play_again():\n",
        "            print(\"Thanks for playing. Goodbye!\")\n",
        "            break\n",
        "\n",
        "if __name__ == \"__main__\":\n",
        "    tic_tac_toe()\n"
      ]
    }
  ]
}